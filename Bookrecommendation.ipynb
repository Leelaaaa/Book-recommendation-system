{
  "nbformat": 4,
  "nbformat_minor": 0,
  "metadata": {
    "colab": {
      "provenance": []
    },
    "kernelspec": {
      "name": "python3",
      "display_name": "Python 3"
    },
    "language_info": {
      "name": "python"
    }
  },
  "cells": [
    {
      "cell_type": "code",
      "source": [
        "import pandas as pd\n",
        "import numpy as np\n",
        "from sklearn.metrics.pairwise import cosine_similarity\n",
        "from sklearn.feature_extraction.text import CountVectorizer"
      ],
      "metadata": {
        "id": "rxyoyst24-Xu"
      },
      "execution_count": 22,
      "outputs": []
    },
    {
      "cell_type": "code",
      "source": [
        "from difflib import get_close_matches\n",
        "\n",
        "def find_similar_titles(title, all_titles):\n",
        "    close = get_close_matches(title, all_titles, n=3, cutoff=0.6)\n",
        "    return close"
      ],
      "metadata": {
        "id": "m1OQEPUr5Mu3"
      },
      "execution_count": 23,
      "outputs": []
    },
    {
      "cell_type": "code",
      "execution_count": 24,
      "metadata": {
        "colab": {
          "base_uri": "https://localhost:8080/",
          "height": 145
        },
        "id": "SUSU7xZmnS-o",
        "outputId": "69c43ea1-b526-4114-9707-732bd8b4b18d"
      },
      "outputs": [
        {
          "output_type": "display_data",
          "data": {
            "text/plain": [
              "<IPython.core.display.HTML object>"
            ],
            "text/html": [
              "\n",
              "     <input type=\"file\" id=\"files-edd24539-8ce9-436f-85cc-3a2b55d16b0c\" name=\"files[]\" multiple disabled\n",
              "        style=\"border:none\" />\n",
              "     <output id=\"result-edd24539-8ce9-436f-85cc-3a2b55d16b0c\">\n",
              "      Upload widget is only available when the cell has been executed in the\n",
              "      current browser session. Please rerun this cell to enable.\n",
              "      </output>\n",
              "      <script>// Copyright 2017 Google LLC\n",
              "//\n",
              "// Licensed under the Apache License, Version 2.0 (the \"License\");\n",
              "// you may not use this file except in compliance with the License.\n",
              "// You may obtain a copy of the License at\n",
              "//\n",
              "//      http://www.apache.org/licenses/LICENSE-2.0\n",
              "//\n",
              "// Unless required by applicable law or agreed to in writing, software\n",
              "// distributed under the License is distributed on an \"AS IS\" BASIS,\n",
              "// WITHOUT WARRANTIES OR CONDITIONS OF ANY KIND, either express or implied.\n",
              "// See the License for the specific language governing permissions and\n",
              "// limitations under the License.\n",
              "\n",
              "/**\n",
              " * @fileoverview Helpers for google.colab Python module.\n",
              " */\n",
              "(function(scope) {\n",
              "function span(text, styleAttributes = {}) {\n",
              "  const element = document.createElement('span');\n",
              "  element.textContent = text;\n",
              "  for (const key of Object.keys(styleAttributes)) {\n",
              "    element.style[key] = styleAttributes[key];\n",
              "  }\n",
              "  return element;\n",
              "}\n",
              "\n",
              "// Max number of bytes which will be uploaded at a time.\n",
              "const MAX_PAYLOAD_SIZE = 100 * 1024;\n",
              "\n",
              "function _uploadFiles(inputId, outputId) {\n",
              "  const steps = uploadFilesStep(inputId, outputId);\n",
              "  const outputElement = document.getElementById(outputId);\n",
              "  // Cache steps on the outputElement to make it available for the next call\n",
              "  // to uploadFilesContinue from Python.\n",
              "  outputElement.steps = steps;\n",
              "\n",
              "  return _uploadFilesContinue(outputId);\n",
              "}\n",
              "\n",
              "// This is roughly an async generator (not supported in the browser yet),\n",
              "// where there are multiple asynchronous steps and the Python side is going\n",
              "// to poll for completion of each step.\n",
              "// This uses a Promise to block the python side on completion of each step,\n",
              "// then passes the result of the previous step as the input to the next step.\n",
              "function _uploadFilesContinue(outputId) {\n",
              "  const outputElement = document.getElementById(outputId);\n",
              "  const steps = outputElement.steps;\n",
              "\n",
              "  const next = steps.next(outputElement.lastPromiseValue);\n",
              "  return Promise.resolve(next.value.promise).then((value) => {\n",
              "    // Cache the last promise value to make it available to the next\n",
              "    // step of the generator.\n",
              "    outputElement.lastPromiseValue = value;\n",
              "    return next.value.response;\n",
              "  });\n",
              "}\n",
              "\n",
              "/**\n",
              " * Generator function which is called between each async step of the upload\n",
              " * process.\n",
              " * @param {string} inputId Element ID of the input file picker element.\n",
              " * @param {string} outputId Element ID of the output display.\n",
              " * @return {!Iterable<!Object>} Iterable of next steps.\n",
              " */\n",
              "function* uploadFilesStep(inputId, outputId) {\n",
              "  const inputElement = document.getElementById(inputId);\n",
              "  inputElement.disabled = false;\n",
              "\n",
              "  const outputElement = document.getElementById(outputId);\n",
              "  outputElement.innerHTML = '';\n",
              "\n",
              "  const pickedPromise = new Promise((resolve) => {\n",
              "    inputElement.addEventListener('change', (e) => {\n",
              "      resolve(e.target.files);\n",
              "    });\n",
              "  });\n",
              "\n",
              "  const cancel = document.createElement('button');\n",
              "  inputElement.parentElement.appendChild(cancel);\n",
              "  cancel.textContent = 'Cancel upload';\n",
              "  const cancelPromise = new Promise((resolve) => {\n",
              "    cancel.onclick = () => {\n",
              "      resolve(null);\n",
              "    };\n",
              "  });\n",
              "\n",
              "  // Wait for the user to pick the files.\n",
              "  const files = yield {\n",
              "    promise: Promise.race([pickedPromise, cancelPromise]),\n",
              "    response: {\n",
              "      action: 'starting',\n",
              "    }\n",
              "  };\n",
              "\n",
              "  cancel.remove();\n",
              "\n",
              "  // Disable the input element since further picks are not allowed.\n",
              "  inputElement.disabled = true;\n",
              "\n",
              "  if (!files) {\n",
              "    return {\n",
              "      response: {\n",
              "        action: 'complete',\n",
              "      }\n",
              "    };\n",
              "  }\n",
              "\n",
              "  for (const file of files) {\n",
              "    const li = document.createElement('li');\n",
              "    li.append(span(file.name, {fontWeight: 'bold'}));\n",
              "    li.append(span(\n",
              "        `(${file.type || 'n/a'}) - ${file.size} bytes, ` +\n",
              "        `last modified: ${\n",
              "            file.lastModifiedDate ? file.lastModifiedDate.toLocaleDateString() :\n",
              "                                    'n/a'} - `));\n",
              "    const percent = span('0% done');\n",
              "    li.appendChild(percent);\n",
              "\n",
              "    outputElement.appendChild(li);\n",
              "\n",
              "    const fileDataPromise = new Promise((resolve) => {\n",
              "      const reader = new FileReader();\n",
              "      reader.onload = (e) => {\n",
              "        resolve(e.target.result);\n",
              "      };\n",
              "      reader.readAsArrayBuffer(file);\n",
              "    });\n",
              "    // Wait for the data to be ready.\n",
              "    let fileData = yield {\n",
              "      promise: fileDataPromise,\n",
              "      response: {\n",
              "        action: 'continue',\n",
              "      }\n",
              "    };\n",
              "\n",
              "    // Use a chunked sending to avoid message size limits. See b/62115660.\n",
              "    let position = 0;\n",
              "    do {\n",
              "      const length = Math.min(fileData.byteLength - position, MAX_PAYLOAD_SIZE);\n",
              "      const chunk = new Uint8Array(fileData, position, length);\n",
              "      position += length;\n",
              "\n",
              "      const base64 = btoa(String.fromCharCode.apply(null, chunk));\n",
              "      yield {\n",
              "        response: {\n",
              "          action: 'append',\n",
              "          file: file.name,\n",
              "          data: base64,\n",
              "        },\n",
              "      };\n",
              "\n",
              "      let percentDone = fileData.byteLength === 0 ?\n",
              "          100 :\n",
              "          Math.round((position / fileData.byteLength) * 100);\n",
              "      percent.textContent = `${percentDone}% done`;\n",
              "\n",
              "    } while (position < fileData.byteLength);\n",
              "  }\n",
              "\n",
              "  // All done.\n",
              "  yield {\n",
              "    response: {\n",
              "      action: 'complete',\n",
              "    }\n",
              "  };\n",
              "}\n",
              "\n",
              "scope.google = scope.google || {};\n",
              "scope.google.colab = scope.google.colab || {};\n",
              "scope.google.colab._files = {\n",
              "  _uploadFiles,\n",
              "  _uploadFilesContinue,\n",
              "};\n",
              "})(self);\n",
              "</script> "
            ]
          },
          "metadata": {}
        },
        {
          "output_type": "stream",
          "name": "stdout",
          "text": [
            "Saving Books.csv to Books (2).csv\n",
            "Saving Ratings (2).csv to Ratings (2) (3).csv\n",
            "Saving Users (1).csv to Users (1) (3).csv\n"
          ]
        }
      ],
      "source": [
        "from google.colab import files\n",
        "uploaded = files.upload()\n"
      ]
    },
    {
      "cell_type": "code",
      "source": [
        "import pandas as pd\n",
        "\n",
        "books = pd.read_csv(\"Books.csv\", encoding='latin-1')\n",
        "users = pd.read_csv(\"Users (1).csv\", encoding='latin-1')\n",
        "ratings = pd.read_csv(\"Ratings (2).csv\", encoding='latin-1')\n",
        "\n",
        "print(\"Books:\")\n",
        "print(books.head(2))\n",
        "print(\"\\nUsers:\")\n",
        "print(users.head(2))\n",
        "print(\"\\nRatings:\")\n",
        "print(ratings.head(2))"
      ],
      "metadata": {
        "id": "A7SKrM4ZvXNQ"
      },
      "execution_count": null,
      "outputs": []
    },
    {
      "cell_type": "code",
      "source": [
        "# Clean column names if needed\n",
        "books = books[['ISBN', 'Book-Title', 'Book-Author']]\n",
        "ratings = ratings[['User-ID', 'ISBN', 'Book-Rating']]\n",
        "\n",
        "# Merge ratings with books\n",
        "data = pd.merge(ratings, books, on='ISBN')\n",
        "\n",
        "# Optional: Filter users who rated more than 50 books\n",
        "popular_users = data['User-ID'].value_counts() > 50\n",
        "data = data[data['User-ID'].isin(popular_users[popular_users].index)]\n"
      ],
      "metadata": {
        "id": "5wAGfqcB0rdc"
      },
      "execution_count": null,
      "outputs": []
    },
    {
      "cell_type": "code",
      "source": [
        "book_pivot = data.pivot_table(index='Book-Title', columns='User-ID', values='Book-Rating')\n",
        "book_pivot.fillna(0, inplace=True)\n",
        "\n",
        "from scipy.sparse import csr_matrix\n",
        "book_sparse = csr_matrix(book_pivot.values)"
      ],
      "metadata": {
        "id": "tzYvgPzU0vXZ"
      },
      "execution_count": null,
      "outputs": []
    },
    {
      "cell_type": "code",
      "source": [
        "from sklearn.neighbors import NearestNeighbors\n",
        "\n",
        "model = NearestNeighbors(metric='cosine', algorithm='brute')\n",
        "model.fit(book_sparse)"
      ],
      "metadata": {
        "id": "3Y-ZpAly1VV7"
      },
      "execution_count": null,
      "outputs": []
    },
    {
      "cell_type": "code",
      "source": [
        "def recommend_books(book_name, top_n=5):\n",
        "    book_pivot = ratings_final.pivot_table(columns='User-ID', index='Book-Title', values='Book-Rating')\n",
        "    book_pivot.fillna(0, inplace=True)\n",
        "\n",
        "    similarity_scores = cosine_similarity(book_pivot)\n",
        "    similarity_df = pd.DataFrame(similarity_scores, index=book_pivot.index, columns=book_pivot.index)\n",
        "\n",
        "    if book_name not in similarity_df.columns:\n",
        "        close_matches = find_similar_titles(book_name, similarity_df.columns)\n",
        "        if close_matches:\n",
        "            print(f\"⚠️ Book not found. Did you mean: {', '.join(close_matches)}?\")\n",
        "        else:\n",
        "            print(\"❌ Book not found and no close matches.\")\n",
        "        return\n",
        "\n",
        "    print(f\"\\n📘 Books similar to: **{book_name}**\\n\")\n",
        "    sim_scores = similarity_df[book_name].sort_values(ascending=False)[1:top_n+1]\n",
        "\n",
        "    for i, title in enumerate(sim_scores.index):\n",
        "        author = books[books['Book-Title'] == title]['Book-Author'].values[0]\n",
        "        avg_rating = ratings_final[ratings_final['Book-Title'] == title]['Book-Rating'].mean()\n",
        "        count_rating = ratings_final[ratings_final['Book-Title'] == title].shape[0]\n",
        "        print(f\"{i+1}. {title} by {author} — ⭐ {avg_rating:.2f} from {count_rating} ratings\")"
      ],
      "metadata": {
        "id": "agcXGKlV1eH2"
      },
      "execution_count": null,
      "outputs": []
    },
    {
      "cell_type": "code",
      "source": [
        "def popular_books(top_n=10):\n",
        "    popular_df = data.groupby('Book-Title').agg({'Book-Rating': ['count', 'mean']})\n",
        "    popular_df.columns = ['rating_count', 'avg_rating']\n",
        "    popular_df = popular_df.sort_values(by='rating_count', ascending=False).head(top_n)\n",
        "\n",
        "    print(f\"Top {top_n} Popular Books:\\n\")\n",
        "    for i, title in enumerate(popular_df.index):\n",
        "        print(f\"{i+1}. {title} | Ratings: {popular_df['rating_count'][i]} | Avg: {round(popular_df['avg_rating'][i], 2)}\")\n",
        "\n",
        "# Example usage:\n",
        "popular_books(10)"
      ],
      "metadata": {
        "id": "wXaR7OgV11-y"
      },
      "execution_count": null,
      "outputs": []
    },
    {
      "cell_type": "code",
      "source": [
        "from sklearn.metrics.pairwise import cosine_similarity\n",
        "\n",
        "# Transpose the pivot for user-user filtering\n",
        "user_pivot = book_pivot.T\n",
        "user_sim = cosine_similarity(user_pivot)\n",
        "user_sim_df = pd.DataFrame(user_sim, index=user_pivot.index, columns=user_pivot.index)\n",
        "\n",
        "def get_similar_users_books(target_user_id, top_n_users=3):\n",
        "    if target_user_id not in user_pivot.index:\n",
        "        return \"User not found.\"\n",
        "\n",
        "    similar_users = user_sim_df[target_user_id].sort_values(ascending=False)[1:top_n_users+1]\n",
        "    similar_user_ids = similar_users.index\n",
        "\n",
        "    books_seen = set(user_pivot.loc[target_user_id][user_pivot.loc[target_user_id] > 0].index)\n",
        "    recommendations = {}\n",
        "\n",
        "    for sim_user in similar_user_ids:\n",
        "        sim_user_books = user_pivot.loc[sim_user][user_pivot.loc[sim_user] > 0]\n",
        "        for book, rating in sim_user_books.items():\n",
        "            if book not in books_seen:\n",
        "                recommendations[book] = recommendations.get(book, 0) + rating\n",
        "\n",
        "    sorted_recommendations = sorted(recommendations.items(), key=lambda x: x[1], reverse=True)[:5]\n",
        "    print(f\"Top recommended books for user {target_user_id}:\\n\")\n",
        "    for i, (book, score) in enumerate(sorted_recommendations, 1):\n",
        "        print(f\"{i}. {book} | Score: {round(score, 2)}\")\n",
        "\n",
        "# Example usage:\n",
        "get_similar_users_books(278700)  # Replace with a real user ID from your data"
      ],
      "metadata": {
        "id": "S-wrzh0i19Wc"
      },
      "execution_count": null,
      "outputs": []
    },
    {
      "cell_type": "code",
      "source": [
        "def run_recommender():\n",
        "    while True:\n",
        "        print(\"\\n📚 Welcome to the Book Recommendation System!\")\n",
        "        print(\"Choose a method:\")\n",
        "        print(\"1. Popularity-Based Recommender\")\n",
        "        print(\"2. User-User Collaborative Filtering\")\n",
        "        print(\"3. Item-Item Collaborative Filtering\")\n",
        "        print(\"4. Exit\")\n",
        "\n",
        "        choice = input(\"Enter your choice (1/2/3/4): \").strip()\n",
        "\n",
        "        if choice == '1':\n",
        "            top_n = input(\"How many top popular books do you want? (e.g., 10): \")\n",
        "            try:\n",
        "                top_n = int(top_n)\n",
        "                popular_books(top_n)\n",
        "            except:\n",
        "                print(\"❌ Please enter a valid number.\")\n",
        "\n",
        "        elif choice == '2':\n",
        "            user_id = input(\"Enter your User ID (e.g., 276729): \")\n",
        "            try:\n",
        "                user_id = int(user_id)\n",
        "                get_similar_users_books(user_id)\n",
        "            except:\n",
        "                print(\"❌ Invalid user ID.\")\n",
        "\n",
        "        elif choice == '3':\n",
        "            book_name = input(\"Enter a Book Title: \").strip()\n",
        "            recommend_books(book_name)\n",
        "\n",
        "        elif choice == '4':\n",
        "            print(\"👋 Thank you for using the Book Recommendation System!\")\n",
        "            break\n",
        "\n",
        "        else:\n",
        "            print(\"❌ Invalid choice. Please choose 1, 2, 3, or 4.\")\n",
        "\n",
        "# Run this now:\n",
        "run_recommender()"
      ],
      "metadata": {
        "colab": {
          "base_uri": "https://localhost:8080/"
        },
        "id": "NdvnNM5L3JMG",
        "outputId": "2c236833-57bb-4da4-95d3-6867e8db658e"
      },
      "execution_count": null,
      "outputs": [
        {
          "output_type": "stream",
          "name": "stdout",
          "text": [
            "\n",
            "📚 Welcome to the Book Recommendation System!\n",
            "Choose a method:\n",
            "1. Popularity-Based Recommender\n",
            "2. User-User Collaborative Filtering\n",
            "3. Item-Item Collaborative Filtering\n",
            "4. Exit\n"
          ]
        }
      ]
    }
  ]
}